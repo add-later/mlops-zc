{
 "cells": [
  {
   "cell_type": "code",
   "execution_count": 1,
   "id": "c464de7c",
   "metadata": {},
   "outputs": [
    {
     "name": "stdout",
     "output_type": "stream",
     "text": [
      "Python 3.12.1\n"
     ]
    }
   ],
   "source": [
    "!python -V"
   ]
  },
  {
   "cell_type": "code",
   "execution_count": 2,
   "id": "98b45e37",
   "metadata": {},
   "outputs": [],
   "source": [
    "import pandas as pd\n",
    "import pickle\n",
    "\n",
    "\n",
    "from sklearn.feature_extraction import DictVectorizer\n",
    "from sklearn.linear_model import LinearRegression\n",
    "from sklearn.metrics import root_mean_squared_error"
   ]
  },
  {
   "cell_type": "code",
   "execution_count": 3,
   "id": "224900e4",
   "metadata": {},
   "outputs": [
    {
     "name": "stdout",
     "output_type": "stream",
     "text": [
      "Q1:  19\n"
     ]
    }
   ],
   "source": [
    "df = pd.read_parquet('data/yellow_tripdata_2023-01.parquet')\n",
    "print('Q1: ', len(df.columns))"
   ]
  },
  {
   "cell_type": "code",
   "execution_count": 4,
   "id": "dd0683d0",
   "metadata": {},
   "outputs": [
    {
     "name": "stdout",
     "output_type": "stream",
     "text": [
      "Q2:  42.59435124195458\n"
     ]
    }
   ],
   "source": [
    "df['duration'] = df.tpep_dropoff_datetime - df.tpep_pickup_datetime\n",
    "df.duration = df.duration.apply(lambda td: td.total_seconds() / 60)\n",
    "\n",
    "print('Q2: ', df['duration'].std())"
   ]
  },
  {
   "cell_type": "code",
   "execution_count": 5,
   "id": "5fac2bb0",
   "metadata": {},
   "outputs": [
    {
     "name": "stdout",
     "output_type": "stream",
     "text": [
      "Q3:  0.9812202822125979\n"
     ]
    }
   ],
   "source": [
    "before_drop = len(df)\n",
    "df = df[(df.duration >= 1) & (df.duration <= 60)]\n",
    "after_drop = len(df)\n",
    "print('Q3: ', after_drop/before_drop)"
   ]
  },
  {
   "cell_type": "code",
   "execution_count": 6,
   "id": "ccc4494e",
   "metadata": {},
   "outputs": [],
   "source": [
    "categorical = ['PULocationID', 'DOLocationID']\n",
    "df[categorical] = df[categorical].astype(str)"
   ]
  },
  {
   "cell_type": "code",
   "execution_count": 7,
   "id": "8bbf1708",
   "metadata": {},
   "outputs": [
    {
     "name": "stdout",
     "output_type": "stream",
     "text": [
      "Q4:  515\n"
     ]
    }
   ],
   "source": [
    "train_dicts = df[categorical].to_dict(orient='records')\n",
    "\n",
    "dv = DictVectorizer()\n",
    "X_train = dv.fit_transform(train_dicts)\n",
    "with open('dv.pkl','wb') as f:\n",
    "    pickle.dump(dv,f)\n",
    "print('Q4: ', X_train.shape[1])"
   ]
  },
  {
   "cell_type": "code",
   "execution_count": 8,
   "id": "1f565400",
   "metadata": {},
   "outputs": [
    {
     "name": "stdout",
     "output_type": "stream",
     "text": [
      "Q5:  7.649261932106969\n"
     ]
    }
   ],
   "source": [
    "target = 'duration'\n",
    "y_train = df[target].values\n",
    "\n",
    "lr = LinearRegression()\n",
    "lr.fit(X_train, y_train)\n",
    "\n",
    "y_pred = lr.predict(X_train)\n",
    "\n",
    "with open('model.pkl','wb') as f:\n",
    "    pickle.dump(lr,f)\n",
    "\n",
    "print('Q5: ', root_mean_squared_error(y_train, y_pred))"
   ]
  },
  {
   "cell_type": "code",
   "execution_count": 9,
   "id": "9c9a3579",
   "metadata": {},
   "outputs": [],
   "source": [
    "# with open('model.pkl', 'rb') as f:\n",
    "#     lr = pickle.load(f)\n",
    "\n",
    "# with open('dv.pkl', 'rb') as f:\n",
    "#     dv = pickle.load(f)\n",
    "\n",
    "df_test = pd.read_parquet('data/yellow_tripdata_2023-02.parquet')\n",
    "df_test['duration'] = df_test.tpep_dropoff_datetime - df_test.tpep_pickup_datetime\n",
    "df_test.duration = df_test.duration.apply(lambda td: td.total_seconds() / 60)\n",
    "categorical = ['PULocationID', 'DOLocationID']\n",
    "df_test[categorical] = df_test[categorical].astype(str)"
   ]
  },
  {
   "cell_type": "code",
   "execution_count": 10,
   "id": "0c864a07",
   "metadata": {},
   "outputs": [
    {
     "name": "stdout",
     "output_type": "stream",
     "text": [
      "Q6:  42.28477577694284\n"
     ]
    }
   ],
   "source": [
    "test_dicts = df_test[categorical].to_dict(orient='records')\n",
    "X_test = dv.transform(test_dicts)\n",
    "y_pred = lr.predict(X_test)\n",
    "y_test = df_test[\"duration\"].values\n",
    "print('Q6: ', root_mean_squared_error(y_test, y_pred))"
   ]
  },
  {
   "cell_type": "code",
   "execution_count": null,
   "id": "d2beb2b6",
   "metadata": {},
   "outputs": [],
   "source": []
  }
 ],
 "metadata": {
  "kernelspec": {
   "display_name": "mlops-zc-4YLXCnEf",
   "language": "python",
   "name": "python3"
  },
  "language_info": {
   "codemirror_mode": {
    "name": "ipython",
    "version": 3
   },
   "file_extension": ".py",
   "mimetype": "text/x-python",
   "name": "python",
   "nbconvert_exporter": "python",
   "pygments_lexer": "ipython3",
   "version": "3.12.1"
  }
 },
 "nbformat": 4,
 "nbformat_minor": 5
}
